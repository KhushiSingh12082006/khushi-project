{
  "nbformat": 4,
  "nbformat_minor": 0,
  "metadata": {
    "colab": {
      "provenance": [],
      "authorship_tag": "ABX9TyORQQxJsK4r13KNEpMQ9LVr",
      "include_colab_link": true
    },
    "kernelspec": {
      "name": "python3",
      "display_name": "Python 3"
    },
    "language_info": {
      "name": "python"
    }
  },
  "cells": [
    {
      "cell_type": "markdown",
      "metadata": {
        "id": "view-in-github",
        "colab_type": "text"
      },
      "source": [
        "<a href=\"https://colab.research.google.com/github/KhushiSingh12082006/khushi-project/blob/main/Untitled18.ipynb\" target=\"_parent\"><img src=\"https://colab.research.google.com/assets/colab-badge.svg\" alt=\"Open In Colab\"/></a>"
      ]
    },
    {
      "cell_type": "code",
      "execution_count": null,
      "metadata": {
        "colab": {
          "base_uri": "https://localhost:8080/"
        },
        "id": "qqgcKmsl5STs",
        "outputId": "3827f64d-2661-4481-901c-293f864e7252"
      },
      "outputs": [
        {
          "output_type": "stream",
          "name": "stdout",
          "text": [
            "Hello\n"
          ]
        }
      ],
      "source": [
        "from abc import ABC, abstractmethod\n",
        "class a(ABC):\n",
        "   @abstractmethod\n",
        "   def show (self):\n",
        "       print('xyz')\n",
        "\n",
        "class b(a):\n",
        "    def show(self):\n",
        "        print(\"Hello\")\n",
        "Obj = b()\n",
        "Obj.show()"
      ]
    },
    {
      "cell_type": "code",
      "source": [
        "from abc import ABC, abstractmethod\n",
        "class shape(ABC):\n",
        "   @abstractmethod\n",
        "   def area(self):\n",
        "       print(\"t\")\n",
        "\n",
        "class rectangle(shape):\n",
        "    def area(self):\n",
        "        l = 20\n",
        "        b = 10\n",
        "        print(l*b)\n",
        "Obj = rectangle ()\n",
        "Obj.area()"
      ],
      "metadata": {
        "id": "HhCTD_0K6hHA",
        "colab": {
          "base_uri": "https://localhost:8080/"
        },
        "outputId": "cd874989-00b2-47b7-cbda-5020743f193c"
      },
      "execution_count": null,
      "outputs": [
        {
          "output_type": "stream",
          "name": "stdout",
          "text": [
            "200\n"
          ]
        }
      ]
    },
    {
      "cell_type": "code",
      "source": [
        "from abc import ABC, abstractmethod\n",
        "class shape(ABC):\n",
        "   @property\n",
        "   def area(self):\n",
        "       pass\n",
        "\n",
        "class rectangle(shape):\n",
        "    @property\n",
        "    def area(self):\n",
        "        l = 20\n",
        "        b = 10\n",
        "        return (l*b)\n",
        "Obj = rectangle ()\n",
        "print(Obj.area)"
      ],
      "metadata": {
        "colab": {
          "base_uri": "https://localhost:8080/"
        },
        "id": "4AgSSrBy9mq9",
        "outputId": "afe920f3-9ba2-4cac-9465-9c9bb18189d0"
      },
      "execution_count": null,
      "outputs": [
        {
          "output_type": "stream",
          "name": "stdout",
          "text": [
            "200\n"
          ]
        }
      ]
    }
  ]
}